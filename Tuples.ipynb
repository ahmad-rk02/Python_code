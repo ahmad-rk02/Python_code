{
 "cells": [
  {
   "cell_type": "markdown",
   "id": "637ff6d4",
   "metadata": {},
   "source": [
    "# TUPLES PYTHON OCDE"
   ]
  },
  {
   "cell_type": "code",
   "execution_count": 1,
   "id": "adbc200a",
   "metadata": {},
   "outputs": [
    {
     "name": "stdout",
     "output_type": "stream",
     "text": [
      "('Monday', 'Tuesday', 'Wednesday', 'Thursday', 'Friday', 'SaturdaySunday')\n"
     ]
    }
   ],
   "source": [
    "days_of_week=('Monday','Tuesday','Wednesday','Thursday','Friday','Saturday''Sunday')\n",
    "print(days_of_week)"
   ]
  },
  {
   "cell_type": "code",
   "execution_count": 2,
   "id": "37d66e4c",
   "metadata": {},
   "outputs": [
    {
     "name": "stdout",
     "output_type": "stream",
     "text": [
      "<class 'tuple'>\n"
     ]
    }
   ],
   "source": [
    "print(type(days_of_week))"
   ]
  },
  {
   "cell_type": "code",
   "execution_count": 3,
   "id": "6b8a1737",
   "metadata": {},
   "outputs": [],
   "source": [
    "convert_list=list(days_of_week)"
   ]
  },
  {
   "cell_type": "code",
   "execution_count": 4,
   "id": "e5a748f2",
   "metadata": {},
   "outputs": [
    {
     "name": "stdout",
     "output_type": "stream",
     "text": [
      "['Monday', 'Tuesday', 'Wednesday', 'Thursday', 'Friday', 'SaturdaySunday']\n"
     ]
    }
   ],
   "source": [
    "print(convert_list)"
   ]
  },
  {
   "cell_type": "code",
   "execution_count": 5,
   "id": "115f7e8b",
   "metadata": {},
   "outputs": [
    {
     "name": "stdout",
     "output_type": "stream",
     "text": [
      "<class 'list'>\n"
     ]
    }
   ],
   "source": [
    "print(type(convert_list))"
   ]
  },
  {
   "cell_type": "code",
   "execution_count": 6,
   "id": "96db7053",
   "metadata": {},
   "outputs": [],
   "source": [
    "convert_tuple=tuple(convert_list)"
   ]
  },
  {
   "cell_type": "code",
   "execution_count": 7,
   "id": "49300f39",
   "metadata": {},
   "outputs": [
    {
     "name": "stdout",
     "output_type": "stream",
     "text": [
      "('Monday', 'Tuesday', 'Wednesday', 'Thursday', 'Friday', 'SaturdaySunday')\n"
     ]
    }
   ],
   "source": [
    "print(convert_tuple)"
   ]
  },
  {
   "cell_type": "code",
   "execution_count": 8,
   "id": "1899be2a",
   "metadata": {},
   "outputs": [
    {
     "name": "stdout",
     "output_type": "stream",
     "text": [
      "Monday\n",
      "Tuesday\n",
      "Wednesday\n",
      "Thursday\n",
      "Friday\n",
      "SaturdaySunday\n"
     ]
    }
   ],
   "source": [
    "for i in days_of_week:\n",
    "    print(i)"
   ]
  },
  {
   "cell_type": "code",
   "execution_count": 11,
   "id": "9e6f0a88",
   "metadata": {},
   "outputs": [
    {
     "name": "stdout",
     "output_type": "stream",
     "text": [
      "Monday\n",
      "Tuesday\n",
      "Wednesday\n",
      "Thursday\n",
      "Friday\n",
      "SaturdaySunday\n"
     ]
    }
   ],
   "source": [
    "i=0\n",
    "while i<len(days_of_week):\n",
    "    print(days_of_week[i])\n",
    "    i=i+1"
   ]
  },
  {
   "cell_type": "code",
   "execution_count": 13,
   "id": "0e14edf4",
   "metadata": {},
   "outputs": [
    {
     "name": "stdout",
     "output_type": "stream",
     "text": [
      "Ahmad\n",
      "Alok\n"
     ]
    }
   ],
   "source": [
    "cse_students=('Ahmad','Alok')\n",
    "(stud_1,stud_2)=cse_students\n",
    "print(stud_1)\n",
    "print(stud_2)"
   ]
  },
  {
   "cell_type": "code",
   "execution_count": 14,
   "id": "9a94198e",
   "metadata": {},
   "outputs": [
    {
     "name": "stdout",
     "output_type": "stream",
     "text": [
      "(12, 23, 45, 65, 58)\n"
     ]
    }
   ],
   "source": [
    "def high_low(numbers):\n",
    "    highest=max(numbers)\n",
    "    lowest=min(numbers)\n",
    "    return highest,lowest\n",
    "list1=(12,23,45,65,58)\n",
    "(high,low)=high_low(list1)\n",
    "print(list1)"
   ]
  },
  {
   "cell_type": "code",
   "execution_count": null,
   "id": "ffb6517e",
   "metadata": {},
   "outputs": [],
   "source": []
  }
 ],
 "metadata": {
  "kernelspec": {
   "display_name": "Python 3 (ipykernel)",
   "language": "python",
   "name": "python3"
  },
  "language_info": {
   "codemirror_mode": {
    "name": "ipython",
    "version": 3
   },
   "file_extension": ".py",
   "mimetype": "text/x-python",
   "name": "python",
   "nbconvert_exporter": "python",
   "pygments_lexer": "ipython3",
   "version": "3.11.5"
  }
 },
 "nbformat": 4,
 "nbformat_minor": 5
}
