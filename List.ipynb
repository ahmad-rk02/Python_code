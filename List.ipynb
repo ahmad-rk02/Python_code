{
 "cells": [
  {
   "cell_type": "markdown",
   "id": "8bb82c15",
   "metadata": {},
   "source": [
    "#   LIST PYTHON CODE "
   ]
  },
  {
   "cell_type": "code",
   "execution_count": 1,
   "id": "8aa8e247",
   "metadata": {},
   "outputs": [
    {
     "name": "stdout",
     "output_type": "stream",
     "text": [
      "cow\n"
     ]
    }
   ],
   "source": [
    "animal=['man','donkey','cat']\n",
    "animal.append('cow')\n",
    "print(animal[-1])"
   ]
  },
  {
   "cell_type": "code",
   "execution_count": 2,
   "id": "1d93601e",
   "metadata": {},
   "outputs": [
    {
     "name": "stdout",
     "output_type": "stream",
     "text": [
      "['man', 'donkey', 'cat', 'cow']\n"
     ]
    }
   ],
   "source": [
    "print(animal)"
   ]
  },
  {
   "cell_type": "code",
   "execution_count": 3,
   "id": "e802b9be",
   "metadata": {},
   "outputs": [],
   "source": [
    "animal.extend(['elephant','duck'])"
   ]
  },
  {
   "cell_type": "code",
   "execution_count": 4,
   "id": "af7a4508",
   "metadata": {},
   "outputs": [
    {
     "name": "stdout",
     "output_type": "stream",
     "text": [
      "['man', 'donkey', 'cat', 'cow', 'elephant', 'duck']\n"
     ]
    }
   ],
   "source": [
    "print(animal)"
   ]
  },
  {
   "cell_type": "code",
   "execution_count": 5,
   "id": "5d559ab0",
   "metadata": {},
   "outputs": [],
   "source": [
    "animal.insert(0,'horse')"
   ]
  },
  {
   "cell_type": "code",
   "execution_count": 6,
   "id": "058b3709",
   "metadata": {},
   "outputs": [
    {
     "name": "stdout",
     "output_type": "stream",
     "text": [
      "['horse', 'man', 'donkey', 'cat', 'cow', 'elephant', 'duck']\n"
     ]
    }
   ],
   "source": [
    "print(animal)"
   ]
  },
  {
   "cell_type": "code",
   "execution_count": 7,
   "id": "df11bca8",
   "metadata": {},
   "outputs": [
    {
     "name": "stdout",
     "output_type": "stream",
     "text": [
      "['horse', 'man', 'donkey', 'cat', 'cow']\n"
     ]
    }
   ],
   "source": [
    "print(animal[0:5])"
   ]
  },
  {
   "cell_type": "code",
   "execution_count": 8,
   "id": "45c4d481",
   "metadata": {},
   "outputs": [
    {
     "name": "stdout",
     "output_type": "stream",
     "text": [
      "['horse', 'man', 'donkey', 'cat', 'cow']\n"
     ]
    }
   ],
   "source": [
    "print(animal[:5])"
   ]
  },
  {
   "cell_type": "code",
   "execution_count": 9,
   "id": "2430af0b",
   "metadata": {},
   "outputs": [
    {
     "name": "stdout",
     "output_type": "stream",
     "text": [
      "['cow', 'elephant', 'duck']\n"
     ]
    }
   ],
   "source": [
    "print(animal[-3:])"
   ]
  },
  {
   "cell_type": "code",
   "execution_count": 10,
   "id": "5ec643e9",
   "metadata": {},
   "outputs": [
    {
     "name": "stdout",
     "output_type": "stream",
     "text": [
      "Ahma\n"
     ]
    }
   ],
   "source": [
    "print(\"Ahmad\"[0:4])"
   ]
  },
  {
   "cell_type": "code",
   "execution_count": 11,
   "id": "a6d7df87",
   "metadata": {},
   "outputs": [
    {
     "name": "stdout",
     "output_type": "stream",
     "text": [
      "No data found\n"
     ]
    }
   ],
   "source": [
    "try:\n",
    "    buffalo_index=animal.index('buffalo')\n",
    "except:\n",
    "    buffalo_index='No data found'\n",
    "print(buffalo_index)"
   ]
  },
  {
   "cell_type": "code",
   "execution_count": 12,
   "id": "a716331a",
   "metadata": {},
   "outputs": [
    {
     "name": "stdout",
     "output_type": "stream",
     "text": [
      "horse\n",
      "man\n",
      "donkey\n",
      "cat\n",
      "cow\n",
      "elephant\n",
      "duck\n"
     ]
    }
   ],
   "source": [
    "for i in animal:\n",
    "    print(i)"
   ]
  },
  {
   "cell_type": "code",
   "execution_count": 13,
   "id": "dc2b1466",
   "metadata": {},
   "outputs": [
    {
     "name": "stdout",
     "output_type": "stream",
     "text": [
      "horse\n",
      "man\n",
      "donkey\n",
      "cat\n",
      "cow\n",
      "elephant\n",
      "duck\n"
     ]
    }
   ],
   "source": [
    "i=0\n",
    "while i<len(animal):\n",
    "    print(animal[i])\n",
    "    i+=1"
   ]
  },
  {
   "cell_type": "code",
   "execution_count": 14,
   "id": "4f4b6947",
   "metadata": {},
   "outputs": [
    {
     "data": {
      "text/plain": [
       "5"
      ]
     },
     "execution_count": 14,
     "metadata": {},
     "output_type": "execute_result"
    }
   ],
   "source": [
    "animal.index('elephant')"
   ]
  }
 ],
 "metadata": {
  "kernelspec": {
   "display_name": "Python 3 (ipykernel)",
   "language": "python",
   "name": "python3"
  },
  "language_info": {
   "codemirror_mode": {
    "name": "ipython",
    "version": 3
   },
   "file_extension": ".py",
   "mimetype": "text/x-python",
   "name": "python",
   "nbconvert_exporter": "python",
   "pygments_lexer": "ipython3",
   "version": "3.11.5"
  }
 },
 "nbformat": 4,
 "nbformat_minor": 5
}
