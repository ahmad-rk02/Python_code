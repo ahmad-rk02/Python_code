{
 "cells": [
  {
   "cell_type": "code",
   "execution_count": 1,
   "id": "68d2ee6a",
   "metadata": {},
   "outputs": [
    {
     "name": "stdout",
     "output_type": "stream",
     "text": [
      "{'Ahmad': 'xxxxxxxx20', 'Rohit': 'xxxxxxxx26', 'Alok': 'xxxxxxxx50', 'Sarang': 'xxxxxxxx22'}\n"
     ]
    }
   ],
   "source": [
    "contacts={'Ahmad':'xxxxxxxx20','Rohit':'xxxxxxxx26','Alok':'xxxxxxxx50','Sarang':'xxxxxxxx22'}\n",
    "print(contacts)"
   ]
  },
  {
   "cell_type": "code",
   "execution_count": 2,
   "id": "a6ea2f8e",
   "metadata": {},
   "outputs": [
    {
     "name": "stdout",
     "output_type": "stream",
     "text": [
      "xxxxxxxx50\n"
     ]
    }
   ],
   "source": [
    "print(contacts['Alok'])"
   ]
  },
  {
   "cell_type": "code",
   "execution_count": 3,
   "id": "317d955d",
   "metadata": {},
   "outputs": [
    {
     "name": "stdout",
     "output_type": "stream",
     "text": [
      "{'Ahmad': 'xxxxxxxx20', 'Rohit': 'xxxxxxxx26', 'Alok': 'xxxxxxxx50'}\n"
     ]
    }
   ],
   "source": [
    "del contacts['Sarang']\n",
    "print(contacts)"
   ]
  },
  {
   "cell_type": "code",
   "execution_count": 4,
   "id": "0be45b18",
   "metadata": {},
   "outputs": [
    {
     "name": "stdout",
     "output_type": "stream",
     "text": [
      "{'Ahmad': 'xxxxxxxx20', 'Rohit': 'xxxxxxxx26', 'Alok': 'xxxxxxxx50', 'Sarang': '8390460122'}\n"
     ]
    }
   ],
   "source": [
    "contacts['Sarang']='8390460122'\n",
    "print(contacts)"
   ]
  },
  {
   "cell_type": "code",
   "execution_count": 5,
   "id": "bf4e6ff7",
   "metadata": {},
   "outputs": [
    {
     "name": "stdout",
     "output_type": "stream",
     "text": [
      "{'Ahmad': 'xxxxxxxx20', 'Rohit': 'xxxxxxxx26', 'Alok': 'xxxxxxxx50', 'Sarang': '8390460121'}\n"
     ]
    }
   ],
   "source": [
    "contacts['Sarang']='8390460121'\n",
    "print(contacts)"
   ]
  },
  {
   "cell_type": "code",
   "execution_count": 6,
   "id": "563cede4",
   "metadata": {},
   "outputs": [
    {
     "name": "stdout",
     "output_type": "stream",
     "text": [
      "{'Ahmad': ['xxxxxxxx20', 'xxxxxxxx43'], 'Sarang': 'xxxxxxxx22'}\n"
     ]
    }
   ],
   "source": [
    "contacts1={\n",
    "    'Ahmad':['xxxxxxxx20','xxxxxxxx43'],\n",
    "    'Sarang':'xxxxxxxx22'\n",
    "}\n",
    "print(contacts1)"
   ]
  },
  {
   "cell_type": "code",
   "execution_count": 7,
   "id": "1df7f17a",
   "metadata": {},
   "outputs": [
    {
     "name": "stdout",
     "output_type": "stream",
     "text": [
      "Ahmad\n",
      "Sarang\n"
     ]
    }
   ],
   "source": [
    "for contact in contacts1:\n",
    "    print(contact)"
   ]
  },
  {
   "cell_type": "code",
   "execution_count": 8,
   "id": "8086713f",
   "metadata": {},
   "outputs": [
    {
     "name": "stdout",
     "output_type": "stream",
     "text": [
      "['xxxxxxxx20', 'xxxxxxxx43']\n",
      "xxxxxxxx22\n"
     ]
    }
   ],
   "source": [
    "for contact in contacts1:\n",
    "    print(contacts1[contact])"
   ]
  },
  {
   "cell_type": "code",
   "execution_count": 9,
   "id": "1395a2b4",
   "metadata": {},
   "outputs": [
    {
     "name": "stdout",
     "output_type": "stream",
     "text": [
      "xxxxxxxx20\n",
      "xxxxxxxx43\n"
     ]
    }
   ],
   "source": [
    "for contact in contacts1['Ahmad']:\n",
    "    print(contact)"
   ]
  },
  {
   "cell_type": "code",
   "execution_count": 10,
   "id": "9f88946b",
   "metadata": {},
   "outputs": [
    {
     "name": "stdout",
     "output_type": "stream",
     "text": [
      "True\n"
     ]
    }
   ],
   "source": [
    "print('Ahmad' in contacts1.keys())"
   ]
  },
  {
   "cell_type": "code",
   "execution_count": 11,
   "id": "f3d5ed9d",
   "metadata": {},
   "outputs": [
    {
     "name": "stdout",
     "output_type": "stream",
     "text": [
      "False\n"
     ]
    }
   ],
   "source": [
    "print('xxxxxxxx22' in contacts1.values())"
   ]
  },
  {
   "cell_type": "code",
   "execution_count": 12,
   "id": "5de912a8",
   "metadata": {},
   "outputs": [
    {
     "name": "stdout",
     "output_type": "stream",
     "text": [
      "False\n"
     ]
    }
   ],
   "source": [
    "print(['8767887220','7620168443'] in contacts1.values())"
   ]
  },
  {
   "cell_type": "code",
   "execution_count": 13,
   "id": "4c68520e",
   "metadata": {},
   "outputs": [
    {
     "name": "stdout",
     "output_type": "stream",
     "text": [
      "Ahmad's phone number is:\n",
      "xxxxxxxx20\n"
     ]
    }
   ],
   "source": [
    "if 'Ahmad' in contacts1.keys():\n",
    "    print(\"Ahmad's phone number is:\")\n",
    "    print(contacts1['Ahmad'][0])\n",
    "    "
   ]
  },
  {
   "cell_type": "code",
   "execution_count": 14,
   "id": "b137b58d",
   "metadata": {},
   "outputs": [],
   "source": [
    " contacts2={\n",
    "     'John':{\n",
    "         'phone':'555-0172',\n",
    "         'e-mail':'john@example.com'\n",
    "     },\n",
    "     'Rahul':{\n",
    "         'phone':'555-0179',\n",
    "         'e-mail':'rahul@example.com'\n",
    "     }\n",
    " }"
   ]
  },
  {
   "cell_type": "code",
   "execution_count": 15,
   "id": "1a1cea18",
   "metadata": {},
   "outputs": [
    {
     "name": "stdout",
     "output_type": "stream",
     "text": [
      "John\n",
      "Rahul\n"
     ]
    }
   ],
   "source": [
    "for i in contacts2:\n",
    "    print(i)"
   ]
  },
  {
   "cell_type": "code",
   "execution_count": 16,
   "id": "2ca7ec84",
   "metadata": {},
   "outputs": [
    {
     "name": "stdout",
     "output_type": "stream",
     "text": [
      "{'phone': '555-0172', 'e-mail': 'john@example.com'}\n",
      "{'phone': '555-0179', 'e-mail': 'rahul@example.com'}\n"
     ]
    }
   ],
   "source": [
    "for i in contacts2:\n",
    "    print(contacts2[i])"
   ]
  },
  {
   "cell_type": "code",
   "execution_count": 17,
   "id": "3a391f6e",
   "metadata": {},
   "outputs": [
    {
     "name": "stdout",
     "output_type": "stream",
     "text": [
      "555-0172\n",
      "555-0179\n"
     ]
    }
   ],
   "source": [
    "for i in contacts2:\n",
    "    print(contacts2[i]['phone'])"
   ]
  },
  {
   "cell_type": "code",
   "execution_count": null,
   "id": "817db8f0",
   "metadata": {},
   "outputs": [],
   "source": []
  }
 ],
 "metadata": {
  "kernelspec": {
   "display_name": "Python 3 (ipykernel)",
   "language": "python",
   "name": "python3"
  },
  "language_info": {
   "codemirror_mode": {
    "name": "ipython",
    "version": 3
   },
   "file_extension": ".py",
   "mimetype": "text/x-python",
   "name": "python",
   "nbconvert_exporter": "python",
   "pygments_lexer": "ipython3",
   "version": "3.11.5"
  }
 },
 "nbformat": 4,
 "nbformat_minor": 5
}
